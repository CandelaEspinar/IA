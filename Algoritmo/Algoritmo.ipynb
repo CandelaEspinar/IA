{
 "cells": [
  {
   "cell_type": "markdown",
   "metadata": {},
   "source": [
    "# ** Código grupo 02 **"
   ]
  },
  {
   "cell_type": "markdown",
   "metadata": {},
   "source": [
    "El primer paso es crear el mapa de las paradas de metro.\n"
   ]
  },
  {
   "cell_type": "markdown",
   "metadata": {},
   "source": [
    "Importamos librerias"
   ]
  },
  {
   "cell_type": "code",
   "execution_count": null,
   "metadata": {},
   "outputs": [],
   "source": [
    "# VARIABLES Y DATOS\n",
    "import networkx as nx\n",
    "import matplotlib.pyplot as plt\n",
    "from math import radians, sin, cos, sqrt, atan2"
   ]
  },
  {
   "cell_type": "markdown",
   "metadata": {},
   "source": [
    "Escribimos las coordenadas de cada parada y los transbordos"
   ]
  },
  {
   "cell_type": "code",
   "execution_count": null,
   "metadata": {},
   "outputs": [],
   "source": [
    "# Coordenadas de las estaciones\n",
    "LISTA_COORDENADAS = {\n",
    "    \"LINEA_A\": {\n",
    "        \"Alberti\": [-34.60979154021843, -58.40086740463643],\n",
    "        \"Pasco\": [-34.609455989895245, -58.39833539938651],\n",
    "        \"Congreso\": [-34.608996813572965, -58.39268130286541],\n",
    "        \"Sáenz Peña\": [-34.609350026351635, -58.38669461230903],\n",
    "        \"Lima\": [-34.60904096524644, -58.382553281561165],\n",
    "        \"Piedras\": [-34.60886435838594, -58.37861579874318],\n",
    "        \"Perú\": [-34.60857295624564, -58.37492507907565],\n",
    "        \"Plaza de Mayo\": [-34.60875839408815, -58.37151330936176],\n",
    "    },\n",
    "    \"LINEA_B\": {\n",
    "        \"Pasteur\": [-34.60409382222638, -58.39968610352264],\n",
    "        \"Callao_B\": [-34.60434108592872, -58.39243341083207],\n",
    "        \"Uruguay\": [-34.60400961150244, -58.38674150304544],\n",
    "        \"Carlos Pellegrini\": [-34.60370936151744, -58.381380708823514],\n",
    "        \"Florida\": [-34.603244782294965, -58.37454489610343],\n",
    "        \"Leandro N. Alem\": [-34.60302925135683, -58.37004749037363],\n",
    "    },\n",
    "    \"LINEA_C\": {\n",
    "        \"Constitución\": [-34.62753942668646, -58.38156121435256],\n",
    "        \"San Juan\": [-34.622153370728164, -58.37994066311232],\n",
    "        \"Independencia_C\": [-34.6180519466846, -58.380256098860485],\n",
    "        \"Moreno\": [-34.61237244698663, -58.38060876062811],\n",
    "        \"Avenida de Mayo\": [-34.60899098423044, -58.38066790483753],\n",
    "        \"Diagonal Norte\": [-34.60482400192541, -58.379488963667214],\n",
    "        \"Lavalle\": [-34.60207510706261, -58.37814441867528],\n",
    "        \"General San Martin\": [-34.59553840845914, -58.37745834587982],\n",
    "        \"Retiro\": [-34.59238671801715, -58.37594819705223],\n",
    "    },\n",
    "    \"LINEA_D\": {\n",
    "        \"Facultad de Medicina\": [-34.5993682836706, -58.3977359491304],\n",
    "        \"Callao_D\": [-34.59957140474557, -58.392307158181815],\n",
    "        \"Tribunales\": [-34.60176154833913, -58.38456093858365],\n",
    "        \"9 de Julio\": [-34.60453888530524, -58.38014065809253],\n",
    "        \"Catedral\": [-34.60757221396939, -58.37419688300631],\n",
    "    },\n",
    "    \"LINEA_E\": {\n",
    "        \"Pichincha\": [-34.62304099718662, -58.39710097116426],\n",
    "        \"Entre Ríos\": [-34.62270550042393, -58.391489789929345],\n",
    "        \"San José\": [-34.62224639739259, -58.385224149714155],\n",
    "        \"Independencia_E\": [-34.61812318513492, -58.380224512115895],\n",
    "        \"Belgrano\": [-34.6128518852584, -58.37787489702144],\n",
    "        \"Bolívar\": [-34.60961123829135, -58.37401251606132],\n",
    "    },\n",
    "}\n"
   ]
  },
  {
   "cell_type": "code",
   "execution_count": null,
   "metadata": {},
   "outputs": [],
   "source": [
    "# Lista de transbordos con las conexiones manuales\n",
    "transbordos = [\n",
    "    (\"Lima\", \"Avenida de Mayo\"),                # Línea A <-> Línea C\n",
    "    (\"Perú\", \"Catedral\"),                       # Línea A <-> Línea D\n",
    "    (\"Independencia_C\", \"Independencia_E\"),     # Línea C <-> Línea E\n",
    "    (\"Bolívar\", \"Perú\"),                        # Línea E <-> Línea A\n",
    "    (\"Bolívar\", \"Catedral\"),                    # Línea E <-> Línea D\n",
    "    (\"Diagonal Norte\", \"Carlos Pellegrini\"),    # Línea C <-> Línea B\n",
    "    (\"Carlos Pellegrini\", \"9 de Julio\"),        # Línea B <-> Línea D\n",
    "    (\"9 de Julio\", \"Diagonal Norte\"),           # Línea D <-> Línea C\n",
    "]"
   ]
  },
  {
   "cell_type": "markdown",
   "metadata": {},
   "source": [
    "Usamos la fórmula de Haversine para calcular las distancias"
   ]
  },
  {
   "cell_type": "code",
   "execution_count": null,
   "metadata": {},
   "outputs": [],
   "source": [
    "def haversine(lat1, lon1, lat2, lon2) -> float:\n",
    "    \"\"\"\n",
    "    Esta función calcula según la fórmula de Haversine la distancia entre\n",
    "    dos puntos geográficos a partir de sus coordenadas y teniendo en cuenta\n",
    "    la curvatura de la Tierra.\n",
    "    \"\"\"\n",
    "    R = 6371e3  # Radio de la Tierra en metros\n",
    "    phi1, phi2 = radians(lat1), radians(lat2)\n",
    "    dphi = radians(lat2 - lat1)\n",
    "    dlambda = radians(lon2 - lon1)\n",
    "    a = sin(dphi / 2) ** 2 + cos(phi1) * cos(phi2) * sin(dlambda / 2) ** 2\n",
    "    c = 2 * atan2(sqrt(a), sqrt(1 - a))\n",
    "    return R * c\n",
    "\n",
    "\n",
    "def distancia(coordenadas_1, coordenadas_2) -> float:\n",
    "    \"\"\"\n",
    "    Usa la función haversine para calcular la respectiva distancia entre dos coordenadas.\n",
    "    \"\"\"\n",
    "    return haversine(coordenadas_1[0], coordenadas_1[1], coordenadas_2[0], coordenadas_2[1])"
   ]
  },
  {
   "cell_type": "markdown",
   "metadata": {},
   "source": [
    "Coloremos los nodos y conexiones"
   ]
  },
  {
   "cell_type": "code",
   "execution_count": null,
   "metadata": {},
   "outputs": [],
   "source": [
    "# Función para colorear los nodos según la línea a la que pertenecen\n",
    "# Agregamos los nodos y las aristas a G\n",
    "LINEA_A = {\"Alberti\", \"Pasco\", \"Congreso\", \"Sáenz Peña\", \"Lima\", \"Piedras\", \"Perú\", \"Plaza de Mayo\"}\n",
    "LINEA_B = {\"Pasteur\", \"Callao_B\", \"Uruguay\", \"Carlos Pellegrini\", \"Florida\", \"Leandro N. Alem\"}\n",
    "LINEA_C = {\"Constitución\", \"San Juan\", \"Independencia_C\", \"Moreno\",\"Avenida de Mayo\", \"Diagonal Norte\", \"Lavalle\", \"General San Martin\", \"Retiro\"}\n",
    "LINEA_D = {\"Facultad de Medicina\", \"Callao_D\", \"Tribunales\", \"9 de Julio\", \"Diagonal Norte\", \"Catedral\"}\n",
    "LINEA_E = {\"Pichincha\", \"Entre Ríos\", \"San José\", \"Independencia_E\", \"Belgrano\", \"Bolívar\"}\n",
    "\n",
    "# lista de estaciones\n",
    "estaciones_linea = [LINEA_A, LINEA_B, LINEA_C, LINEA_D, LINEA_E]\n",
    "\n",
    "def colorear_nodos(G, estaciones):\n",
    "    color = []\n",
    "\n",
    "    for node in G.nodes:\n",
    "        if node in estaciones[0]:\n",
    "            color.append('lightblue')\n",
    "        elif node in estaciones[1]:\n",
    "            color.append('red')\n",
    "        elif node in estaciones[2]:\n",
    "            color.append('darkblue')\n",
    "        elif node in estaciones[3]:\n",
    "            color.append('green')\n",
    "        elif node in estaciones[4]:\n",
    "            color.append('purple')\n",
    "        else:\n",
    "            color.append('gray')  # Color por defecto si no se encuentra en ninguna línea\n",
    "    return color\n",
    "\n",
    "def colorear_edges(G, estaciones, transbordos_list):\n",
    "    color_edge = []\n",
    "    for edge in G.edges:\n",
    "        node1, node2 = edge\n",
    "        if (node1, node2) in transbordos or (node2, node1) in transbordos:\n",
    "            color_edge.append('yellow')\n",
    "        elif node1 in estaciones[0] or node2 in estaciones[0]:\n",
    "            color_edge.append('lightblue')\n",
    "        elif node1 in estaciones[1] or node2 in estaciones[1]:\n",
    "            color_edge.append('red')\n",
    "        elif node1 in estaciones[2] or node2 in estaciones[2]:\n",
    "            color_edge.append('darkblue')\n",
    "        elif node1 in estaciones[3] or node2 in estaciones[3]:\n",
    "            color_edge.append('green')\n",
    "        elif node1 in estaciones[4] or node2 in estaciones[4] :\n",
    "            color_edge.append('purple')\n",
    "        else:\n",
    "            color_edge.append('gray')  # Color por defecto\n",
    "    return color_edge"
   ]
  },
  {
   "cell_type": "code",
   "execution_count": null,
   "metadata": {},
   "outputs": [],
   "source": [
    "# Grafo vacío\n",
    "G = nx.Graph()\n",
    "\n",
    "# Agregamos nodos con posiciones\n",
    "for linea, estaciones in LISTA_COORDENADAS.items():\n",
    "    for estacion, coordenadas in estaciones.items():\n",
    "        G.add_node(estacion, pos=(coordenadas[0], coordenadas[1]))\n",
    "\n",
    "# Definimos las distancias entre las estaciones\n",
    "for linea, estaciones in LISTA_COORDENADAS.items():\n",
    "    estaciones_lista = list(estaciones.keys())\n",
    "    for i in range(len(estaciones_lista) - 1):\n",
    "        estacion1 = estaciones_lista[i]\n",
    "        estacion2 = estaciones_lista[i + 1]\n",
    "        coord1 = estaciones[estacion1]\n",
    "        coord2 = estaciones[estacion2]\n",
    "        G.add_edge(estacion1, estacion2, weight=distancia(coord1, coord2))\n",
    "\n",
    "# Obtener posiciones de los nodos\n",
    "pos = nx.get_node_attributes(G, 'pos')\n",
    "\n",
    "# Agregar las aristas entre las estaciones de transbordo\n",
    "for conexion in transbordos:\n",
    "    estacion1, estacion2 = conexion\n",
    "    if estacion1 in G.nodes and estacion2 in G.nodes:\n",
    "        G.add_edge(estacion1, estacion2, weight=0)  # Peso a definir\n",
    "\n",
    "# Agregar las aristas entre las estaciones de transbordo\n",
    "for estacion1, estacion2 in transbordos:\n",
    "    if estacion1 in G.nodes and estacion2 in G.nodes:\n",
    "        G.add_edge(estacion1, estacion2, weight=0)  # Peso a definir\n"
   ]
  },
  {
   "cell_type": "markdown",
   "metadata": {},
   "source": [
    "Dibujamos el grafo"
   ]
  },
  {
   "cell_type": "code",
   "execution_count": null,
   "metadata": {},
   "outputs": [],
   "source": [
    "# Dibujar el grafo\n",
    "# Coloreamos los nodos y las aristas\n",
    "node_colors = colorear_nodos(G, estaciones_linea)\n",
    "edge_colors = colorear_edges(G, estaciones_linea, transbordos)\n",
    "\n",
    "# Dibujar el grafo\n",
    "plt.figure(figsize=(12, 10))\n",
    "\n",
    "# Dibujamos las aristas\n",
    "nx.draw_networkx_edges(G, pos, edge_color=edge_colors, width=2)\n",
    "\n",
    "# Dibujamos los nodos\n",
    "nx.draw_networkx_nodes(G, pos, node_color=node_colors, node_size=500)\n",
    "\n",
    "# Dibujamos las etiquetas\n",
    "nx.draw_networkx_labels(G, pos, font_size=12)\n",
    "\n",
    "plt.show()"
   ]
  }
 ],
 "metadata": {
  "kernelspec": {
   "display_name": "Python 3",
   "language": "python",
   "name": "python3"
  },
  "language_info": {
   "name": "python",
   "version": "3.12.0"
  }
 },
 "nbformat": 4,
 "nbformat_minor": 2
}
